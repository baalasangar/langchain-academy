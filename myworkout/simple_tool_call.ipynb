{
 "cells": [
  {
   "cell_type": "markdown",
   "metadata": {},
   "source": [
    "## Tools\n",
    "\n",
    "Tools are useful whenever you want a model to interact with external systems.\n",
    "\n",
    "External systems (e.g., APIs) often require a particular input schema or payload, rather than natural language. \n",
    "\n",
    "When we bind an API, for example, as a tool we given the model awareness of the required input schema.\n",
    "\n",
    "The model will choose to call a tool based upon the natural language input from the user. \n",
    "\n",
    "And, it will return an output that adheres to the tool's schema. \n",
    "\n",
    "[Many LLM providers support tool calling](https://python.langchain.com/v0.1/docs/integrations/chat/) and [tool calling interface](https://blog.langchain.dev/improving-core-tool-interfaces-and-docs-in-langchain/) in LangChain is simple. \n",
    " \n",
    "You can simply pass any Python `function` into `ChatModel.bind_tools(function)`.\n",
    "\n",
    "![Screenshot 2024-08-19 at 7.46.28 PM.png](https://cdn.prod.website-files.com/65b8cd72835ceeacd4449a53/66dbab08dc1c17a7a57f9960_chain2.png)\n"
   ]
  },
  {
   "cell_type": "code",
   "execution_count": 1,
   "metadata": {},
   "outputs": [],
   "source": [
    "import os, getpass\n",
    "\n",
    "def _set_env(var: str):\n",
    "    if not os.environ.get(var):\n",
    "        os.environ[var] = getpass.getpass(f\"{var}: \")\n",
    "\n",
    "# _set_env(\"OPENAI_API_KEY\")\n",
    "_set_env(\"GROQ_API_KEY\")"
   ]
  },
  {
   "cell_type": "code",
   "execution_count": 2,
   "metadata": {},
   "outputs": [],
   "source": [
    "from  langchain_groq import ChatGroq\n",
    "from langchain_core.messages import HumanMessage\n",
    "from typing_extensions import Annotated, TypedDict\n",
    "from langchain_core.pydantic_v1 import BaseModel, Field"
   ]
  },
  {
   "cell_type": "markdown",
   "metadata": {},
   "source": [
    "<h1> function call with out langgraph</h1>"
   ]
  },
  {
   "cell_type": "code",
   "execution_count": 16,
   "metadata": {},
   "outputs": [
    {
     "name": "stdout",
     "output_type": "stream",
     "text": [
      "bound=ChatGroq(client=<groq.resources.chat.completions.Completions object at 0x71dc9fbebf20>, async_client=<groq.resources.chat.completions.AsyncCompletions object at 0x71dc9fbf42f0>, model_name='llama3-8b-8192', temperature=1e-08, groq_api_key=SecretStr('**********')) kwargs={'tools': [{'type': 'function', 'function': {'name': 'add', 'description': 'Add two integers.', 'parameters': {'type': 'object', 'properties': {'a': {'description': 'First integer', 'type': 'integer'}, 'b': {'description': 'Second integer', 'type': 'integer'}}, 'required': ['a', 'b']}}}, {'type': 'function', 'function': {'name': 'multiply', 'description': 'Multiply two integers.', 'parameters': {'type': 'object', 'properties': {'a': {'type': 'integer'}, 'b': {'type': 'integer'}}, 'required': ['a', 'b']}}}]}\n"
     ]
    }
   ],
   "source": [
    "class add(TypedDict):\n",
    "    \"\"\"Add two integers.\"\"\"\n",
    "\n",
    "    # Annotations must have the type and can optionally include a default value and description (in that order).\n",
    "    a: Annotated[int, ..., \"First integer\"]\n",
    "    b: Annotated[int, ..., \"Second integer\"]\n",
    "\n",
    "\n",
    "class multiply(BaseModel):\n",
    "    \"\"\"Multiply two integers.\"\"\"\n",
    "\n",
    "    a: Annotated[int, ..., \"First integer\"]\n",
    "    b: Annotated[int, ..., \"Second integer\"]\n",
    "\n",
    "\n",
    "tools = [add, multiply]\n",
    "llm = ChatGroq(model=\"llama3-8b-8192\",temperature=0)\n",
    "# llm = ChatGroq(model=\"gemma-7b-it\",temperature=0)\n",
    "\n",
    "llm_with_tools = llm.bind_tools(tools)\n",
    "print(llm_with_tools)"
   ]
  },
  {
   "cell_type": "code",
   "execution_count": 15,
   "metadata": {},
   "outputs": [
    {
     "name": "stdout",
     "output_type": "stream",
     "text": [
      "{'tool_calls': [{'id': 'call_21dv', 'function': {'arguments': '{\"a\":3,\"b\":12}', 'name': 'multiply'}, 'type': 'function'}]}\n",
      "----------\n",
      "{'tool_calls': [{'id': 'call_fs30', 'function': {'arguments': '{\"a\":3,\"b\":12}', 'name': 'multiply'}, 'type': 'function'}]}\n",
      "----------\n",
      "{'tool_calls': [{'id': 'call_sq7m', 'function': {'arguments': '{\"a\":3,\"b\":12}', 'name': 'add'}, 'type': 'function'}]}\n",
      "----------\n",
      "{'tool_calls': [{'id': 'call_h8j4', 'function': {'arguments': '{\"a\":3,\"b\":12}', 'name': 'multiply'}, 'type': 'function'}, {'id': 'call_70k0', 'function': {'arguments': '{\"a\":36,\"b\":4}', 'name': 'add'}, 'type': 'function'}]}\n"
     ]
    }
   ],
   "source": [
    "\n",
    "response = llm_with_tools.invoke(\"What is 3 * 12?\")\n",
    "print(response.additional_kwargs)\n",
    "print(\"----------\")\n",
    "response = llm_with_tools.invoke(\"What is multiplication 3 and 12?\")\n",
    "print(response.additional_kwargs)\n",
    "\n",
    "print(\"----------\")\n",
    "response = llm_with_tools.invoke(\"addition of 3 and 12?\")\n",
    "print(response.additional_kwargs)\n",
    "\n",
    "print(\"----------\")\n",
    "response = llm_with_tools.invoke(\"3*12 + 4\")\n",
    "print(response.additional_kwargs)"
   ]
  },
  {
   "cell_type": "code",
   "execution_count": 20,
   "metadata": {},
   "outputs": [
    {
     "name": "stdout",
     "output_type": "stream",
     "text": [
      "{'tool_calls': [{'id': 'call_rpda', 'function': {'arguments': '{\"a\":3,\"b\":12}', 'name': 'multiply'}, 'type': 'function'}]}\n",
      "----------\n",
      "{'tool_calls': [{'id': 'call_7bn4', 'function': {'arguments': '{\"a\":3,\"b\":12}', 'name': 'multiply'}, 'type': 'function'}]}\n",
      "----------\n",
      "{'tool_calls': [{'id': 'call_18my', 'function': {'arguments': '{\"a\":3,\"b\":12}', 'name': 'add'}, 'type': 'function'}]}\n",
      "----------\n",
      "{'tool_calls': [{'id': 'call_kjvc', 'function': {'arguments': '{\"a\":3,\"b\":12}', 'name': 'multiply'}, 'type': 'function'}, {'id': 'call_8bmn', 'function': {'arguments': '{\"a\":36,\"b\":4}', 'name': 'add'}, 'type': 'function'}]}\n"
     ]
    }
   ],
   "source": [
    "tools = [\n",
    "    {\n",
    "      \"type\": \"function\",\n",
    "      \"function\": {\n",
    "        \"name\": \"add\",\n",
    "        \"description\": \"Add two integers.\",\n",
    "        \"parameters\": {\n",
    "          \"type\": \"object\",\n",
    "          \"properties\": {\n",
    "            \"a\": {\n",
    "              \"description\": \"First integer\",\n",
    "              \"type\": \"integer\"\n",
    "            },\n",
    "            \"b\": {\n",
    "              \"description\": \"Second integer\",\n",
    "              \"type\": \"integer\"\n",
    "            }\n",
    "          },\n",
    "          \"required\": [\n",
    "            \"a\",\n",
    "            \"b\"\n",
    "          ]\n",
    "        }\n",
    "      }\n",
    "    },\n",
    "    {\n",
    "      \"type\": \"function\",\n",
    "      \"function\": {\n",
    "        \"name\": \"multiply\",\n",
    "        \"description\": \"Multiply two integers.\",\n",
    "        \"parameters\": {\n",
    "          \"type\": \"object\",\n",
    "          \"properties\": {\n",
    "            \"a\": {\n",
    "              \"type\": \"integer\"\n",
    "            },\n",
    "            \"b\": {\n",
    "              \"type\": \"integer\"\n",
    "            }\n",
    "          },\n",
    "          \"required\": [\n",
    "            \"a\",\n",
    "            \"b\"\n",
    "          ]\n",
    "        }\n",
    "      }\n",
    "    }\n",
    "  ]\n",
    "llm = ChatGroq(model=\"llama3-8b-8192\",temperature=0).bind(tools = tools)\n",
    "\n",
    "response = llm.invoke(\"What is 3 * 12?\")\n",
    "print(response.additional_kwargs)\n",
    "print(\"----------\")\n",
    "\n",
    "response = llm.invoke(\"What is multiplication 3 and 12?\")\n",
    "print(response.additional_kwargs)\n",
    "\n",
    "print(\"----------\")\n",
    "response = llm.invoke(\"addition of 3 and 12?\")\n",
    "print(response.additional_kwargs)\n",
    "\n",
    "print(\"----------\")\n",
    "response = llm.invoke(\"3*12 + 4\")\n",
    "print(response.additional_kwargs)\n"
   ]
  },
  {
   "cell_type": "markdown",
   "metadata": {},
   "source": [
    "<h1> function call with langgraph</h1>"
   ]
  },
  {
   "cell_type": "code",
   "execution_count": 22,
   "metadata": {},
   "outputs": [],
   "source": [
    "from langgraph.graph import MessagesState\n",
    "from langgraph.graph import StateGraph,START,END\n",
    "\n",
    "## Reducers allow us to specify how state updates are performed.\n",
    "## MessagesState - inbuild reducer which appends the message\n",
    " \n",
    "class MessagesState(MessagesState):\n",
    "    ## Every time the message is appended\n",
    "    # Add any keys needed beyond messages, which is pre-built \n",
    "    pass"
   ]
  },
  {
   "cell_type": "markdown",
   "metadata": {},
   "source": [
    "Since having a list of messages in graph state is so common, LangGraph has a pre-built [`MessagesState`](https://langchain-ai.github.io/langgraph/concepts/low_level/#messagesstate)! \n",
    "\n",
    "`MessagesState` is defined: \n",
    "\n",
    "* With a pre-build single `messages` key\n",
    "* This is a list of `AnyMessage` objects \n",
    "* It uses the `add_messages` reducer\n"
   ]
  },
  {
   "cell_type": "code",
   "execution_count": 23,
   "metadata": {},
   "outputs": [],
   "source": [
    "def tool_calling_llm(state:MessagesState):\n",
    "    tools = [add, multiply]\n",
    "    llm = ChatGroq(model=\"llama3-8b-8192\",temperature=0)\n",
    "    llm_with_tools = llm.bind_tools(tools)\n",
    "    return {\"messages\":llm_with_tools.invoke(state[\"messages\"])}\n",
    "\n",
    "graph_builder = StateGraph(MessagesState)\n",
    "graph_builder.add_node(\"tool_calling_llm\",tool_calling_llm)\n",
    "\n",
    "graph_builder.add_edge(START,\"tool_calling_llm\")\n",
    "graph_builder.add_edge(\"tool_calling_llm\",END)\n",
    "\n",
    "graph = graph_builder.compile()\n"
   ]
  },
  {
   "cell_type": "code",
   "execution_count": 27,
   "metadata": {},
   "outputs": [
    {
     "name": "stdout",
     "output_type": "stream",
     "text": [
      "================================\u001b[1m Human Message \u001b[0m=================================\n",
      "\n",
      "What is 3 * 12?\n",
      "----------\n",
      "==================================\u001b[1m Ai Message \u001b[0m==================================\n",
      "Tool Calls:\n",
      "  multiply (call_znt5)\n",
      " Call ID: call_znt5\n",
      "  Args:\n",
      "    a: 3\n",
      "    b: 12\n",
      "----------\n"
     ]
    }
   ],
   "source": [
    "response = graph.invoke({\"messages\":[HumanMessage(content=\"What is 3 * 12?\")]})\n",
    "for m in response['messages']:\n",
    "    m.pretty_print()\n",
    "    print(\"----------\")"
   ]
  },
  {
   "cell_type": "code",
   "execution_count": 28,
   "metadata": {},
   "outputs": [
    {
     "name": "stdout",
     "output_type": "stream",
     "text": [
      "================================\u001b[1m Human Message \u001b[0m=================================\n",
      "\n",
      "3*12 + 4\n",
      "----------\n",
      "==================================\u001b[1m Ai Message \u001b[0m==================================\n",
      "Tool Calls:\n",
      "  multiply (call_j1vh)\n",
      " Call ID: call_j1vh\n",
      "  Args:\n",
      "    a: 3\n",
      "    b: 12\n",
      "  add (call_0n4b)\n",
      " Call ID: call_0n4b\n",
      "  Args:\n",
      "    a: 36\n",
      "    b: 4\n",
      "----------\n"
     ]
    }
   ],
   "source": [
    "response = graph.invoke({\"messages\":[HumanMessage(content=\"3*12 + 4\")]})\n",
    "for m in response['messages']:\n",
    "    m.pretty_print()\n",
    "    print(\"----------\")"
   ]
  }
 ],
 "metadata": {
  "kernelspec": {
   "display_name": "Python 3",
   "language": "python",
   "name": "python3"
  },
  "language_info": {
   "codemirror_mode": {
    "name": "ipython",
    "version": 3
   },
   "file_extension": ".py",
   "mimetype": "text/x-python",
   "name": "python",
   "nbconvert_exporter": "python",
   "pygments_lexer": "ipython3",
   "version": "3.12.1"
  }
 },
 "nbformat": 4,
 "nbformat_minor": 2
}
