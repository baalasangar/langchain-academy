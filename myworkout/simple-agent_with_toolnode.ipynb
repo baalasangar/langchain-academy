{
 "cells": [
  {
   "cell_type": "code",
   "execution_count": 18,
   "metadata": {},
   "outputs": [],
   "source": [
    "from langgraph.graph import MessagesState,StateGraph,START,END\n",
    "from langchain_core.messages import SystemMessage,HumanMessage,AIMessage,ToolMessage\n",
    "from langgraph.prebuilt import tools_condition\n",
    "from langgraph.prebuilt import ToolNode\n",
    "from IPython.display import Image, display\n",
    "\n",
    "\n",
    "import re\n",
    "import httpx\n",
    "\n",
    "from langchain_groq import ChatGroq"
   ]
  },
  {
   "cell_type": "code",
   "execution_count": 10,
   "metadata": {},
   "outputs": [],
   "source": [
    "import os, getpass\n",
    "\n",
    "def _set_env(var: str):\n",
    "    if not os.environ.get(var):\n",
    "        os.environ[var] = getpass.getpass(f\"{var}: \")\n",
    "\n",
    "# _set_env(\"OPENAI_API_KEY\")\n",
    "_set_env(\"GROQ_API_KEY\")"
   ]
  },
  {
   "cell_type": "code",
   "execution_count": 11,
   "metadata": {},
   "outputs": [],
   "source": [
    "def calculate(what:str) -> int:\n",
    "    \"\"\"\n",
    "    Evaluate the equation  \n",
    "    Args\"\n",
    "        what:equation string to evaluate\n",
    "    \"\"\"\n",
    "    return eval(what)\n",
    "\n",
    "def wikipedia(q:str):\n",
    "    \"\"\"\n",
    "    Invoke the wikipedia service to get the required details\n",
    "    Args\"\n",
    "        q:search string value which need to be searched\n",
    "    \"\"\"\n",
    "    return httpx.get(\"https://en.wikipedia.org/w/api.php\", params={\n",
    "        \"action\": \"query\",\n",
    "        \"list\": \"search\",\n",
    "        \"srsearch\": q,\n",
    "        \"format\": \"json\"\n",
    "    }).json()[\"query\"][\"search\"][0][\"snippet\"]\n",
    "\n",
    "def other(nextaction:str):\n",
    "    \"\"\"\n",
    "    fallback action when \n",
    "    Args\"\n",
    "        q:search string value which need to be searched\n",
    "    \"\"\"\n",
    "    return nextaction\n",
    "    \n",
    "\n",
    "tools = [calculate,wikipedia,other]\n",
    "llm = ChatGroq(model=\"llama3-8b-8192\",temperature=0)\n",
    "llm_with_tools = llm.bind_tools(tools)\n"
   ]
  },
  {
   "cell_type": "code",
   "execution_count": 12,
   "metadata": {},
   "outputs": [
    {
     "data": {
      "image/jpeg": "[encoded data removed]",
      "text/plain": [
       "<IPython.core.display.Image object>"
      ]
     },
     "metadata": {},
     "output_type": "display_data"
    }
   ],
   "source": [
    "sys_msg = SystemMessage(content=\"You are a helpful assistant, tasked to answer the question which i ask\")\n",
    "\n",
    "\n",
    "def assistant(state: MessagesState):\n",
    "   return {\"messages\": [llm_with_tools.invoke([sys_msg] + state[\"messages\"])]}\n",
    "\n",
    "# Graph\n",
    "builder = StateGraph(MessagesState)\n",
    "\n",
    "# Define nodes: these do the work\n",
    "builder.add_node(\"assistant\", assistant)\n",
    "builder.add_node(\"tools\", ToolNode(tools))\n",
    "\n",
    "# Define edges: these determine how the control flow moves\n",
    "builder.add_edge(START, \"assistant\")\n",
    "builder.add_conditional_edges(\n",
    "    \"assistant\",\n",
    "    # If the latest message (result) from assistant is a tool call -> tools_condition routes to tools\n",
    "    # If the latest message (result) from assistant is a not a tool call -> tools_condition routes to END\n",
    "    tools_condition,\n",
    ")\n",
    "builder.add_edge(\"tools\", \"assistant\")\n",
    "react_graph = builder.compile()\n",
    "\n",
    "# Show\n",
    "display(Image(react_graph.get_graph(xray=True).draw_mermaid_png()))\n"
   ]
  },
  {
   "cell_type": "code",
   "execution_count": 13,
   "metadata": {},
   "outputs": [
    {
     "name": "stdout",
     "output_type": "stream",
     "text": [
      "================================\u001b[1m Human Message \u001b[0m=================================\n",
      "\n",
      "Add 3 and 4, then multiply by 2, and finally divide by 5\n",
      "==================================\u001b[1m Ai Message \u001b[0m==================================\n",
      "Tool Calls:\n",
      "  calculate (call_1e6s)\n",
      " Call ID: call_1e6s\n",
      "  Args:\n",
      "    what: 3+4\n",
      "=================================\u001b[1m Tool Message \u001b[0m=================================\n",
      "Name: calculate\n",
      "\n",
      "7\n",
      "==================================\u001b[1m Ai Message \u001b[0m==================================\n",
      "Tool Calls:\n",
      "  calculate (call_rmwc)\n",
      " Call ID: call_rmwc\n",
      "  Args:\n",
      "    what: 7*2\n",
      "=================================\u001b[1m Tool Message \u001b[0m=================================\n",
      "Name: calculate\n",
      "\n",
      "14\n",
      "==================================\u001b[1m Ai Message \u001b[0m==================================\n",
      "Tool Calls:\n",
      "  calculate (call_zdkh)\n",
      " Call ID: call_zdkh\n",
      "  Args:\n",
      "    what: 14/5\n",
      "=================================\u001b[1m Tool Message \u001b[0m=================================\n",
      "Name: calculate\n",
      "\n",
      "2.8\n",
      "==================================\u001b[1m Ai Message \u001b[0m==================================\n",
      "\n",
      "The final answer is 2.8.\n"
     ]
    }
   ],
   "source": [
    "messages = [HumanMessage(content=\"Add 3 and 4, then multiply by 2, and finally divide by 5\")]\n",
    "messages = react_graph.invoke({\"messages\": messages})\n",
    "for m in messages['messages']:\n",
    "    m.pretty_print()"
   ]
  },
  {
   "cell_type": "code",
   "execution_count": 14,
   "metadata": {},
   "outputs": [
    {
     "name": "stdout",
     "output_type": "stream",
     "text": [
      "================================\u001b[1m Human Message \u001b[0m=================================\n",
      "\n",
      "What is the sum of 3 and 5 and Explain speciality of India \n",
      "==================================\u001b[1m Ai Message \u001b[0m==================================\n",
      "Tool Calls:\n",
      "  calculate (call_s0rm)\n",
      " Call ID: call_s0rm\n",
      "  Args:\n",
      "    what: 3 + 5\n",
      "  wikipedia (call_39j7)\n",
      " Call ID: call_39j7\n",
      "  Args:\n",
      "    q: specialty of India\n",
      "=================================\u001b[1m Tool Message \u001b[0m=================================\n",
      "Name: calculate\n",
      "\n",
      "8\n",
      "=================================\u001b[1m Tool Message \u001b[0m=================================\n",
      "Name: wikipedia\n",
      "\n",
      "A medical <span class=\"searchmatch\">specialty</span> is a branch <span class=\"searchmatch\">of</span> medical practice that is focused on a defined group <span class=\"searchmatch\">of</span> patients, diseases, skills, or philosophy. Examples include\n",
      "==================================\u001b[1m Ai Message \u001b[0m==================================\n",
      "Tool Calls:\n",
      "  wikipedia (call_b6fn)\n",
      " Call ID: call_b6fn\n",
      "  Args:\n",
      "    q: specialty of India\n",
      "=================================\u001b[1m Tool Message \u001b[0m=================================\n",
      "Name: wikipedia\n",
      "\n",
      "A medical <span class=\"searchmatch\">specialty</span> is a branch <span class=\"searchmatch\">of</span> medical practice that is focused on a defined group <span class=\"searchmatch\">of</span> patients, diseases, skills, or philosophy. Examples include\n",
      "==================================\u001b[1m Ai Message \u001b[0m==================================\n",
      "\n",
      "The sum of 3 and 5 is 8. India has a diverse range of medical specialties, including Ayurveda, Unani, and Siddha, which are traditional systems of medicine that originated in the country. Additionally, India is also home to many modern medical specialties, such as cardiology, neurology, and oncology, which are practiced in hospitals and clinics across the country.\n"
     ]
    }
   ],
   "source": [
    "messages = [HumanMessage(content=\"What is the sum of 3 and 5 and Explain speciality of India \")]\n",
    "messages = react_graph.invoke({\"messages\": messages})\n",
    "for m in messages['messages']:\n",
    "    m.pretty_print()"
   ]
  },
  {
   "cell_type": "code",
   "execution_count": 15,
   "metadata": {},
   "outputs": [
    {
     "name": "stdout",
     "output_type": "stream",
     "text": [
      "================================\u001b[1m Human Message \u001b[0m=================================\n",
      "\n",
      "Explain speciality of India and What is the sum of 3 and 5 \n",
      "==================================\u001b[1m Ai Message \u001b[0m==================================\n",
      "Tool Calls:\n",
      "  wikipedia (call_gaxy)\n",
      " Call ID: call_gaxy\n",
      "  Args:\n",
      "    q: India\n",
      "  calculate (call_z5eh)\n",
      " Call ID: call_z5eh\n",
      "  Args:\n",
      "    what: 3+5\n",
      "=================================\u001b[1m Tool Message \u001b[0m=================================\n",
      "Name: wikipedia\n",
      "\n",
      "<span class=\"searchmatch\">India</span>, officially the Republic of <span class=\"searchmatch\">India</span> (ISO: Bhārat Gaṇarājya), is a country in South Asia. It is the seventh-largest country by area; the most populous\n",
      "=================================\u001b[1m Tool Message \u001b[0m=================================\n",
      "Name: calculate\n",
      "\n",
      "8\n",
      "==================================\u001b[1m Ai Message \u001b[0m==================================\n",
      "\n",
      "The Republic of India is a country in South Asia, known for its rich cultural heritage, diverse geography, and vibrant economy. It is home to a vast array of languages, religions, and cuisines, and is often referred to as the \"land of spices\" due to its long history of spice trade. India is also known for its ancient cities, such as Varanasi and Ayodhya, as well as its modern cities, such as Mumbai and Bangalore.\n",
      "\n",
      "As for the sum of 3 and 5, it is indeed 8.\n"
     ]
    }
   ],
   "source": [
    "messages = [HumanMessage(content=\"Explain speciality of India and What is the sum of 3 and 5 \")]\n",
    "messages = react_graph.invoke({\"messages\": messages})\n",
    "for m in messages['messages']:\n",
    "    m.pretty_print()"
   ]
  }
 ],
 "metadata": {
  "kernelspec": {
   "display_name": "Python 3",
   "language": "python",
   "name": "python3"
  },
  "language_info": {
   "codemirror_mode": {
    "name": "ipython",
    "version": 3
   },
   "file_extension": ".py",
   "mimetype": "text/x-python",
   "name": "python",
   "nbconvert_exporter": "python",
   "pygments_lexer": "ipython3",
   "version": "3.12.1"
  }
 },
 "nbformat": 4,
 "nbformat_minor": 2
}
