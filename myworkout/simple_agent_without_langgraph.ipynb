{
 "cells": [
  {
   "cell_type": "markdown",
   "metadata": {},
   "source": [
    "<h1> Implementing the ReAct agent without using langgraph framework </h1>\n",
    "<li>it uses \"Thought - Action - Observation\" pattern</li>\n",
    "<li>As sample Add,Multiple methos is implemented</li>\n"
   ]
  },
  {
   "cell_type": "code",
   "execution_count": 106,
   "metadata": {},
   "outputs": [],
   "source": [
    "from langchain.chat_models import ChatOpenAI\n",
    "from langchain.prompts import ChatPromptTemplate, SystemMessagePromptTemplate, HumanMessagePromptTemplate\n",
    "from langchain.schema import AIMessage, HumanMessage, SystemMessage\n",
    "import re\n",
    "import httpx\n",
    "\n",
    "\n",
    "from langchain_groq import ChatGroq"
   ]
  },
  {
   "cell_type": "code",
   "execution_count": 107,
   "metadata": {},
   "outputs": [],
   "source": [
    "import os, getpass\n",
    "\n",
    "def _set_env(var: str):\n",
    "    if not os.environ.get(var):\n",
    "        os.environ[var] = getpass.getpass(f\"{var}: \")\n",
    "\n",
    "# _set_env(\"OPENAI_API_KEY\")\n",
    "_set_env(\"GROQ_API_KEY\")"
   ]
  },
  {
   "cell_type": "code",
   "execution_count": 119,
   "metadata": {},
   "outputs": [],
   "source": [
    "### tools\n",
    "\n",
    "def calculate(what):\n",
    "    return eval(what)\n",
    "\n",
    "def wikipedia(q):\n",
    "    return httpx.get(\"https://en.wikipedia.org/w/api.php\", params={\n",
    "        \"action\": \"query\",\n",
    "        \"list\": \"search\",\n",
    "        \"srsearch\": q,\n",
    "        \"format\": \"json\"\n",
    "    }).json()[\"query\"][\"search\"][0][\"snippet\"]\n",
    "\n",
    "\n"
   ]
  },
  {
   "cell_type": "code",
   "execution_count": 157,
   "metadata": {},
   "outputs": [],
   "source": [
    "### Prompt Template & LLM\n",
    "\n",
    "system_template = \"\"\"You run in a loop of Thought, Action, PAUSE, Observation.\n",
    "At the end of the loop you output an Answer\n",
    "Use Thought to describe your thoughts about the question you have been asked.\n",
    "Use Action to run one of the actions available to you - then return PAUSE.\n",
    "Observation will be the result of running those actions.\n",
    "Answer: the final answer to the original question\n",
    "\n",
    "Your available actions are:\n",
    "\n",
    "calculate:\n",
    "e.g. calculate: 4 * 7 / 3\n",
    "Runs a calculation and returns the number - uses Python so be sure to use floating point syntax if necessary\n",
    "\n",
    "wikipedia:\n",
    "e.g. wikipedia: Django\n",
    "Returns a summary from searching Wikipedia\n",
    "\n",
    "Always look things up on Wikipedia if you have the opportunity to do so.\n",
    "\n",
    "Example session:\n",
    "# Example1\n",
    "Question: What is the capital of France?\n",
    "Thought: I should look up France on Wikipedia\n",
    "Action: wikipedia: France\n",
    "PAUSE\n",
    "\n",
    "You will be called again with this:\n",
    "\n",
    "Observation: France is a country. The capital is Paris.\n",
    "\n",
    "You then output:\n",
    "\n",
    "Answer: The capital of France is Paris\n",
    "\n",
    "# Example2\n",
    "Question: What is 3 * 12 ?\n",
    "Thought: I should calculate the result of 3 * 12\n",
    "Action: calculate: 3 * 12\n",
    "PAUSE\n",
    "\n",
    "\n",
    "You will be called again with this:\n",
    "\n",
    "Observation: 36\n",
    "Answer: 36\n",
    "\n",
    "\"\"\".strip()\n",
    "\n",
    "human_template = \"\"\"Question: {question}\"\"\"\n",
    "\n",
    "llm = ChatGroq(model=\"llama3-8b-8192\",temperature=0)"
   ]
  },
  {
   "cell_type": "code",
   "execution_count": 158,
   "metadata": {},
   "outputs": [],
   "source": [
    "known_actions = {\n",
    "    \"wikipedia\": wikipedia,\n",
    "    \"calculate\": calculate,\n",
    "}"
   ]
  },
  {
   "cell_type": "code",
   "execution_count": 164,
   "metadata": {},
   "outputs": [],
   "source": [
    "def parse_output(output):\n",
    "    # print(\"Entered Parser - \"+output)\n",
    "    action_match = re.search(r'Action: (.*)', output)\n",
    "    final_answer_match = re.search(r'Answer: (.*)', output)\n",
    "\n",
    "    action = action_match.group(1).strip() if action_match else None\n",
    "    final_answer = final_answer_match.group(1).strip() if final_answer_match else None\n",
    "\n",
    "    return action, final_answer"
   ]
  },
  {
   "cell_type": "code",
   "execution_count": 196,
   "metadata": {},
   "outputs": [],
   "source": [
    "### run the agent  - Agent execution is done untill the Final answer is constructed\n",
    "\n",
    "\n",
    "def run_react_agent(question):\n",
    "    agent_scratchpad = \"\"\n",
    "    max_iterations = 5  # Prevent infinite loops\n",
    "    messages = []\n",
    "    # Initialize the messages with the system prompt\n",
    "    messages.append(SystemMessage(content=system_template))\n",
    "    human_message = human_template.format(question=question)\n",
    "    messages.append(HumanMessage(content=human_message))\n",
    "\n",
    "    for _ in range(max_iterations):\n",
    "        print(\"loop in\")\n",
    "        response = llm.invoke(messages)\n",
    "        messages.append(AIMessage(content=response.content))\n",
    "        actions,final_answer = parse_output(response.content)\n",
    "        # actions = [action_re.match(a) for a in response.content.split('\\n') if action_re.match(a)]\n",
    "        # print(actions[0].groups())\n",
    "        if final_answer:\n",
    "            return \"Answer: {}\".format(final_answer)\n",
    "\n",
    "        if actions:\n",
    "            action, action_input = actions.split(\":\")\n",
    "            if action not in known_actions:\n",
    "                raise Exception(\"Unknown action \") \n",
    "            print(\" -- running {} {}\".format(action, action_input))\n",
    "            observation = known_actions[action](action_input)\n",
    "            # print(\"Observation\" , observation)\n",
    "            messages.append(HumanMessage(content=f\"Observation: {observation}\"))\n",
    "            # [msg.pretty_print() for msg in messages]\n",
    "        else:\n",
    "            return \"\"\n"
   ]
  },
  {
   "cell_type": "code",
   "execution_count": 197,
   "metadata": {},
   "outputs": [
    {
     "name": "stdout",
     "output_type": "stream",
     "text": [
      "loop in\n",
      " -- running calculate  4 * 12\n",
      "loop in\n",
      "Answer: 48\n"
     ]
    }
   ],
   "source": [
    "query = \"What is 4 * 12?\"\n",
    "print(run_react_agent(query))"
   ]
  },
  {
   "cell_type": "code",
   "execution_count": 198,
   "metadata": {},
   "outputs": [
    {
     "name": "stdout",
     "output_type": "stream",
     "text": [
      "loop in\n",
      " -- running calculate  4 * 12 + 3 / 2\n",
      "loop in\n",
      "Answer: The result of 4 * 12 and add 3 and divide the result by 2 is 49.5.\n"
     ]
    }
   ],
   "source": [
    "query = \"What is 4 * 12 and add 3 and divide the result by 2?\"\n",
    "print(run_react_agent(query))"
   ]
  },
  {
   "cell_type": "code",
   "execution_count": 180,
   "metadata": {},
   "outputs": [
    {
     "name": "stdout",
     "output_type": "stream",
     "text": [
      " -- running wikipedia  India\n"
     ]
    },
    {
     "name": "stderr",
     "output_type": "stream",
     "text": [
      "/tmp/ipykernel_2607/3523303771.py:2: SyntaxWarning: invalid escape sequence '\\w'\n",
      "  action_re = re.compile('^Action: (\\w+): (.*)$')\n"
     ]
    },
    {
     "ename": "Exception",
     "evalue": "Unknown action ",
     "output_type": "error",
     "traceback": [
      "\u001b[0;31m---------------------------------------------------------------------------\u001b[0m",
      "\u001b[0;31mException\u001b[0m                                 Traceback (most recent call last)",
      "Cell \u001b[0;32mIn[180], line 2\u001b[0m\n\u001b[1;32m      1\u001b[0m query \u001b[38;5;241m=\u001b[39m \u001b[38;5;124m\"\u001b[39m\u001b[38;5;124mWhat is capital of India\u001b[39m\u001b[38;5;124m\"\u001b[39m\n\u001b[0;32m----> 2\u001b[0m \u001b[38;5;28mprint\u001b[39m(\u001b[43mrun_react_agent\u001b[49m\u001b[43m(\u001b[49m\u001b[43mquery\u001b[49m\u001b[43m)\u001b[49m)\n",
      "Cell \u001b[0;32mIn[178], line 27\u001b[0m, in \u001b[0;36mrun_react_agent\u001b[0;34m(question)\u001b[0m\n\u001b[1;32m     25\u001b[0m action, action_input \u001b[38;5;241m=\u001b[39m actions\u001b[38;5;241m.\u001b[39msplit(\u001b[38;5;124m\"\u001b[39m\u001b[38;5;124m:\u001b[39m\u001b[38;5;124m\"\u001b[39m)\n\u001b[1;32m     26\u001b[0m \u001b[38;5;28;01mif\u001b[39;00m action \u001b[38;5;129;01mnot\u001b[39;00m \u001b[38;5;129;01min\u001b[39;00m known_actions:\n\u001b[0;32m---> 27\u001b[0m     \u001b[38;5;28;01mraise\u001b[39;00m \u001b[38;5;167;01mException\u001b[39;00m(\u001b[38;5;124m\"\u001b[39m\u001b[38;5;124mUnknown action \u001b[39m\u001b[38;5;124m\"\u001b[39m) \n\u001b[1;32m     28\u001b[0m \u001b[38;5;28mprint\u001b[39m(\u001b[38;5;124m\"\u001b[39m\u001b[38;5;124m -- running \u001b[39m\u001b[38;5;132;01m{}\u001b[39;00m\u001b[38;5;124m \u001b[39m\u001b[38;5;132;01m{}\u001b[39;00m\u001b[38;5;124m\"\u001b[39m\u001b[38;5;241m.\u001b[39mformat(action, action_input))\n\u001b[1;32m     29\u001b[0m observation \u001b[38;5;241m=\u001b[39m known_actions[action](action_input)\n",
      "\u001b[0;31mException\u001b[0m: Unknown action "
     ]
    }
   ],
   "source": [
    "query = \"What is capital of India\"\n",
    "print(run_react_agent(query))"
   ]
  },
  {
   "cell_type": "code",
   "execution_count": 113,
   "metadata": {},
   "outputs": [],
   "source": [
    "# response = llm.invoke(\"What is 3 * 12?\")\n",
    "# print(response.additional_kwargs)\n",
    "# print(\"----------\")\n",
    "\n",
    "# response = llm.invoke(\"What is multiplication 3 and 12?\")\n",
    "# print(response.additional_kwargs)\n",
    "\n",
    "# print(\"----------\")\n",
    "# response = llm.invoke(\"addition of 3 and 12?\")\n",
    "# print(response.additional_kwargs)\n",
    "\n",
    "# print(\"----------\")\n",
    "# response = llm.invoke(\"3*12 + 4\")\n",
    "# print(response.additional_kwargs)\n"
   ]
  }
 ],
 "metadata": {
  "kernelspec": {
   "display_name": "Python 3",
   "language": "python",
   "name": "python3"
  },
  "language_info": {
   "codemirror_mode": {
    "name": "ipython",
    "version": 3
   },
   "file_extension": ".py",
   "mimetype": "text/x-python",
   "name": "python",
   "nbconvert_exporter": "python",
   "pygments_lexer": "ipython3",
   "version": "3.12.1"
  }
 },
 "nbformat": 4,
 "nbformat_minor": 2
}
