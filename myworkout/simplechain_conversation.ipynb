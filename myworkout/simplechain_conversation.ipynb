{
 "cells": [
  {
   "cell_type": "code",
   "execution_count": 5,
   "metadata": {},
   "outputs": [],
   "source": [
    "from langchain_core.messages import HumanMessage,AIMessage,SystemMessage\n",
    "from langchain_groq import ChatGroq"
   ]
  },
  {
   "cell_type": "code",
   "execution_count": 6,
   "metadata": {},
   "outputs": [],
   "source": [
    "import os, getpass\n",
    "\n",
    "def _set_env(var: str):\n",
    "    if not os.environ.get(var):\n",
    "        os.environ[var] = getpass.getpass(f\"{var}: \")\n",
    "\n",
    "# _set_env(\"OPENAI_API_KEY\")\n",
    "_set_env(\"GROQ_API_KEY\")"
   ]
  },
  {
   "cell_type": "code",
   "execution_count": 4,
   "metadata": {},
   "outputs": [
    {
     "name": "stdout",
     "output_type": "stream",
     "text": [
      "================================\u001b[1m System Message \u001b[0m================================\n",
      "\n",
      "You are helpfull assistant\n",
      "================================\u001b[1m Human Message \u001b[0m=================================\n",
      "\n",
      "What is the capital of India ?\n",
      "==================================\u001b[1m Ai Message \u001b[0m==================================\n",
      "\n",
      "New Delhi\n",
      "================================\u001b[1m Human Message \u001b[0m=================================\n",
      "\n",
      "What is the special about it ?\n"
     ]
    }
   ],
   "source": [
    "messages = [SystemMessage(content=\"You are helpfull assistant\")]\n",
    "messages.append(HumanMessage(content='What is the capital of India ?'))  \n",
    "messages.append(AIMessage(content=\"New Delhi\"))\n",
    "messages.append(HumanMessage(content=\"What is the special about it ?\"))\n",
    "\n",
    "for msg in messages:\n",
    "    msg.pretty_print()"
   ]
  },
  {
   "cell_type": "code",
   "execution_count": 9,
   "metadata": {},
   "outputs": [
    {
     "name": "stdout",
     "output_type": "stream",
     "text": [
      "New Delhi is the capital of India and is known for:\n",
      "\n",
      "**1. Rich History and Culture:**\n",
      "- Founded in the 16th century by the Mughal Emperor Shah Jahan.\n",
      "- Rich in historical monuments, including Qutub Minar, Humayun's Tomb, and Red Fort.\n",
      "- Home to numerous museums, art galleries, and cultural events.\n",
      "\n",
      "**2. Political Significance:**\n",
      "- The political nerve center of India.\n",
      "- Houses the Indian Parliament, Prime Minister's Office, and Supreme Court.\n",
      "- Witness to major political events and decisions.\n",
      "\n",
      "**3. Modern Infrastructure:**\n",
      "- Known for its modern architecture, wide roads, and green spaces.\n",
      "- Major commercial and financial hub.\n",
      "- Home to numerous multinational corporations and embassies.\n",
      "\n",
      "**4. Educational and Research Center:**\n",
      "- Major educational and research hub.\n",
      "- Several universities, research institutions, and libraries.\n",
      "- Center for scientific and technological advancements.\n",
      "\n",
      "**5. Cultural Diversity:**\n",
      "- A melting pot of cultures and religions.\n",
      "- Diverse population with people from different backgrounds and beliefs.\n",
      "- Known for its vibrant nightlife and street food.\n"
     ]
    }
   ],
   "source": [
    "llm = ChatGroq(model=\"gemma-7b-it\", temperature=0)\n",
    "response_msg = llm.invoke(messages)\n",
    "print(response_msg.content)"
   ]
  }
 ],
 "metadata": {
  "kernelspec": {
   "display_name": "Python 3",
   "language": "python",
   "name": "python3"
  },
  "language_info": {
   "codemirror_mode": {
    "name": "ipython",
    "version": 3
   },
   "file_extension": ".py",
   "mimetype": "text/x-python",
   "name": "python",
   "nbconvert_exporter": "python",
   "pygments_lexer": "ipython3",
   "version": "3.12.1"
  }
 },
 "nbformat": 4,
 "nbformat_minor": 2
}
